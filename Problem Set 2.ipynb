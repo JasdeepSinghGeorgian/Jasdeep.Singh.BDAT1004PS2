{
 "cells": [
  {
   "cell_type": "markdown",
   "id": "49acfd52",
   "metadata": {},
   "source": [
    "# Problem Set 2"
   ]
  },
  {
   "cell_type": "markdown",
   "id": "7ec5f17f",
   "metadata": {},
   "source": [
    "### Question 1 : \n",
    "Consider the following python module: "
   ]
  },
  {
   "cell_type": "code",
   "execution_count": 9,
   "id": "9ae2c100",
   "metadata": {},
   "outputs": [
    {
     "name": "stdout",
     "output_type": "stream",
     "text": [
      "None\n",
      "None\n",
      "None\n",
      "6\n"
     ]
    }
   ],
   "source": [
    "a = 0\n",
    "\n",
    "def b():\n",
    "    global a\n",
    "    a = c(a)\n",
    "    \n",
    "def c(a):\n",
    "    return a + 2\n",
    "\n",
    "print(b())\n",
    "print(b())\n",
    "print(b())\n",
    "print(a)"
   ]
  },
  {
   "cell_type": "markdown",
   "id": "4c8ac1c8",
   "metadata": {},
   "source": [
    "### <u>Answer 1</u>:  \n",
    "Understanding of function b().  \n",
    "  \n",
    "The 'a' passed to the function c() is the global variable 'a' and its value is assigned back to 'a' which is a local variable. \n",
    "With each call of function b() the value of global variable is incremented by 2. \n",
    "  \n",
    "And finally when the value of a is printed. Compiler prints the value 6.  \n",
    "\n"
   ]
  },
  {
   "cell_type": "markdown",
   "id": "b1d39412",
   "metadata": {},
   "source": [
    "### Question 2 : \n",
    "Use try and except to handle errors in our program."
   ]
  },
  {
   "cell_type": "code",
   "execution_count": 1,
   "id": "89dde54c",
   "metadata": {},
   "outputs": [
    {
     "name": "stdout",
     "output_type": "stream",
     "text": [
      "123\n",
      "File abc.txt not found.\n"
     ]
    }
   ],
   "source": [
    "def fileLength(name):\n",
    "    try:\n",
    "        file = open(name)\n",
    "        contents = file.read()\n",
    "        file.close()\n",
    "        print(len(contents))\n",
    "    except:\n",
    "        print(\"File {} not found.\".format(name))\n",
    "\n",
    "fileLength('FileLength.txt')\n",
    "fileLength('abc.txt') # file 'abc.txt' does not exist. So error is thrown."
   ]
  },
  {
   "cell_type": "markdown",
   "id": "df22de13",
   "metadata": {},
   "source": [
    "### Question 3:  \n",
    "Understanding of Extending classes, and constructor and method overloading."
   ]
  },
  {
   "cell_type": "code",
   "execution_count": 19,
   "id": "74a3f9de",
   "metadata": {},
   "outputs": [
    {
     "name": "stdout",
     "output_type": "stream",
     "text": [
      "I am a Kangaroo located at coordinates (0,0)\n",
      "I am a Kangaroo located at coordinates (3,0)\n"
     ]
    }
   ],
   "source": [
    "class Marsupial:\n",
    "    'The parent class named Marsupial'\n",
    "    \n",
    "    def __init__(self):\n",
    "        self.pouchList = []\n",
    "        # Write your methods here.\n",
    "        \n",
    "    def put_in_pouch(self, val):\n",
    "        self.pouchList.append(val)\n",
    "    \n",
    "    def pouch_contents(self):\n",
    "        return self.pouchList\n",
    "\n",
    "\n",
    "class Kangaroo(Marsupial):\n",
    "    'The sub class named Kangaroo'\n",
    "    \n",
    "    def __init__(self, x=0, y=0):\n",
    "        super().__init__()\n",
    "        self.x = x\n",
    "        self.y = y\n",
    "    \n",
    "    def jump(self, dx, dy):\n",
    "        self.x += dx\n",
    "        self.y += dy\n",
    "        \n",
    "    def __str__(self):\n",
    "        return f\"I am a Kangaroo located at coordinates ({self.x},{self.y})\"\n",
    "    \n",
    "    \n",
    "\n",
    "k = Kangaroo()\n",
    "print(k)\n",
    "k.put_in_pouch('doll')\n",
    "k.put_in_pouch('firetruck')\n",
    "k.put_in_pouch('kitten')\n",
    "k.pouch_contents()\n",
    "k.jump(1,0)\n",
    "k.jump(1,0)\n",
    "k.jump(1,0)\n",
    "print(k)"
   ]
  },
  {
   "cell_type": "markdown",
   "id": "45761419",
   "metadata": {},
   "source": [
    "### Question 4:  \n",
    "Understanding of Recursion "
   ]
  },
  {
   "cell_type": "code",
   "execution_count": 14,
   "id": "cb2c2343",
   "metadata": {},
   "outputs": [
    {
     "name": "stdout",
     "output_type": "stream",
     "text": [
      "10\n",
      "5\n",
      "16\n",
      "8\n",
      "4\n",
      "2\n",
      "1\n"
     ]
    }
   ],
   "source": [
    "def collatz(x):\n",
    "    print(\"{:.0f}\".format(x))\n",
    "    if(x==1):\n",
    "        return\n",
    "    if(x%2==0):\n",
    "        collatz(x/2)\n",
    "    else:\n",
    "        collatz((3*x)+1)\n",
    "        \n",
    "\n",
    "collatz(10)\n",
    "        "
   ]
  },
  {
   "cell_type": "markdown",
   "id": "b8fdfae3",
   "metadata": {},
   "source": [
    "### Question 5:  \n",
    "Recursion and Binary Conversion  "
   ]
  },
  {
   "cell_type": "code",
   "execution_count": 17,
   "id": "aecc229f",
   "metadata": {},
   "outputs": [
    {
     "name": "stdout",
     "output_type": "stream",
     "text": [
      "0\n",
      "1\n",
      "11\n",
      "1011010\n"
     ]
    }
   ],
   "source": [
    "def binary(n):\n",
    "    \n",
    "    if n == 0:\n",
    "        return '0'\n",
    "    elif n == 1:\n",
    "        return '1'\n",
    "    else:\n",
    "        return binary(n // 2) + str(n % 2)\n",
    "    \n",
    "\n",
    "print(binary(0))\n",
    "print(binary(1))\n",
    "print(binary(3))\n",
    "print(binary(9))"
   ]
  },
  {
   "cell_type": "markdown",
   "id": "18de5ce5",
   "metadata": {},
   "source": [
    "### Question 6:  \n",
    "HTML Parser Knowledge"
   ]
  },
  {
   "cell_type": "code",
   "execution_count": 33,
   "id": "84e2d481",
   "metadata": {
    "scrolled": true
   },
   "outputs": [
    {
     "name": "stdout",
     "output_type": "stream",
     "text": [
      "\n",
      "\n",
      "\n",
      "\n",
      "  \n",
      "\t\n",
      "W3C Mission\n",
      "\n",
      "\t\n",
      "Principles\n",
      "\n",
      " \n",
      "\n",
      "\n",
      "\n",
      "\n",
      "\n"
     ]
    }
   ],
   "source": [
    "from html.parser import HTMLParser\n",
    "\n",
    "class HeadingParser(HTMLParser):\n",
    "    def __init__(self):\n",
    "        super().__init__()\n",
    "        self.indent = 0\n",
    "        self.isHead = False\n",
    "    \n",
    "    def handle_starttag(self, tag, attrs):\n",
    "        if tag == 'head':\n",
    "            self.isHead = True\n",
    "        if tag.startswith('h'):\n",
    "            print(' ' * self.indent, end='')\n",
    "            self.indent += 1\n",
    "    \n",
    "    def handle_endtag(self, tag):\n",
    "        if tag == 'head':\n",
    "            self.isHead = False\n",
    "        if tag.startswith('h'):\n",
    "            self.indent -= 1\n",
    "    \n",
    "    def handle_data(self, data):\n",
    "        if self.isHead == False:\n",
    "            print(data)\n",
    "\n",
    "infile = open('w3c.html')\n",
    "content = infile.read()\n",
    "infile.close()\n",
    "\n",
    "hp = HeadingParser()\n",
    "hp.feed(content)\n"
   ]
  },
  {
   "cell_type": "markdown",
   "id": "8c024616",
   "metadata": {},
   "source": [
    "### Question 7:\n",
    "Recursive function"
   ]
  },
  {
   "cell_type": "code",
   "execution_count": 86,
   "id": "8b129f00",
   "metadata": {},
   "outputs": [
    {
     "name": "stdout",
     "output_type": "stream",
     "text": [
      "Inside the method webdir\n"
     ]
    }
   ],
   "source": [
    "# No Answer as of now for answer 7\n",
    "\n",
    "def webdir(url, depth, indent):\n",
    "    print(\"Inside the method webdir\")\n",
    "    \n",
    "webdir('http://reed.cs.depaul.edu/lperkovic/csc242/test1.html', 2, 0)"
   ]
  },
  {
   "cell_type": "markdown",
   "id": "d11f3899",
   "metadata": {},
   "source": [
    "### Questoin 8:  \n",
    "Write SQL queries on the below database table that return:  \n",
    "a) All the temperature data.  \n",
    "b) All the cities, but without repetition.  \n",
    "c) All the records for India.  \n",
    "d) All the Fall records.  \n",
    "e) The city, country, and season for which the average rainfall is between 200\n",
    "and 400 millimeters.  \n",
    "f) The city and country for which the average Fall temperature is above 20  \n",
    "degrees, in increasing temperature order.  \n",
    "g) The total annual rainfall for Cairo.  \n",
    "h) The total rainfall for each season.  "
   ]
  },
  {
   "cell_type": "code",
   "execution_count": 67,
   "id": "e266217f",
   "metadata": {},
   "outputs": [
    {
     "name": "stdout",
     "output_type": "stream",
     "text": [
      "************ PRINTING A ************\n",
      "(24.8,)\n",
      "(28.4,)\n",
      "(27.9,)\n",
      "(27.6,)\n",
      "(4.2,)\n",
      "(8.3,)\n",
      "(15.7,)\n",
      "(10.4,)\n",
      "(13.6,)\n",
      "(20.7,)\n",
      "(27.7,)\n",
      "(22.2,)\n",
      "\n",
      "************ PRINTING B ************\n",
      "('Mumbai',)\n",
      "('London',)\n",
      "('Cairo',)\n",
      "\n",
      "************ PRINTING C ************\n",
      "('Mumbai', 'India', 'Winter', 24.8, 5.9)\n",
      "('Mumbai', 'India', 'Spring', 28.4, 16.2)\n",
      "('Mumbai', 'India', 'Summer', 27.9, 1549.4)\n",
      "('Mumbai', 'India', 'Fall', 27.6, 346.0)\n",
      "\n",
      "************ PRINTING D ************\n",
      "('Mumbai', 'India', 'Fall', 27.6, 346.0)\n",
      "('London', 'United Kingdom', 'Fall', 10.4, 218.5)\n",
      "('Cairo', 'Egypt', 'Fall', 22.2, 4.5)\n",
      "\n",
      "************ PRINTING E ************\n",
      "('Mumbai', 'India', 'Fall')\n",
      "('London', 'United Kingdom', 'Winter')\n",
      "('London', 'United Kingdom', 'Fall')\n",
      "\n",
      "************ PRINTING F ************\n",
      "('Cairo', 'Egypt')\n",
      "('Mumbai', 'India')\n",
      "\n",
      "************ PRINTING G ************\n",
      "(27.6,)\n",
      "\n",
      "************ PRINTING H ************\n",
      "('Fall', 569.0)\n",
      "('Spring', 192.29999999999998)\n",
      "('Summer', 1706.5)\n",
      "('Winter', 230.1)\n"
     ]
    }
   ],
   "source": [
    "import sqlite3\n",
    "\n",
    "# create a connection to the database. This will create a 'sample.db' file in the running directory.\n",
    "conn = sqlite3.connect('first.db')\n",
    "cur = conn.cursor()\n",
    "\n",
    "# Create the Table World\n",
    "cur.execute(\"CREATE TABLE if not exists Info (city text, country text, season int, Temperate float, Rainfall float)\")\n",
    "\n",
    "# Insert Data into the Table World from the file SQL.txt. Hardcode this data.\n",
    "cur.execute(\"INSERT INTO Info VALUES ('Mumbai', 'India', 'Winter', 24.8, 5.9)\")\n",
    "cur.execute(\"INSERT INTO Info VALUES ('Mumbai', 'India', 'Spring', 28.4, 16.2)\")\n",
    "cur.execute(\"INSERT INTO Info VALUES ('Mumbai', 'India', 'Summer', 27.9, 1549.4)\")\n",
    "cur.execute(\"INSERT INTO Info VALUES ('Mumbai', 'India', 'Fall', 27.6, 346.0)\")\n",
    "cur.execute(\"INSERT INTO Info VALUES ('London', 'United Kingdom', 'Winter', 4.2, 207.7)\")\n",
    "cur.execute(\"INSERT INTO Info VALUES ('London', 'United Kingdom', 'Spring', 8.3, 169.6)\")\n",
    "cur.execute(\"INSERT INTO Info VALUES ('London', 'United Kingdom', 'Summer', 15.7, 157.0)\")\n",
    "cur.execute(\"INSERT INTO Info VALUES ('London', 'United Kingdom', 'Fall', 10.4, 218.5)\")\n",
    "cur.execute(\"INSERT INTO Info VALUES ('Cairo', 'Egypt', 'Winter', 13.6, 16.5)\")\n",
    "cur.execute(\"INSERT INTO Info VALUES ('Cairo', 'Egypt', 'Spring', 20.7, 6.5)\")\n",
    "cur.execute(\"INSERT INTO Info VALUES ('Cairo', 'Egypt', 'Summer', 27.7, 0.1)\")\n",
    "cur.execute(\"INSERT INTO Info VALUES ('Cairo', 'Egypt', 'Fall', 22.2, 4.5)\")\n",
    "\n",
    "# Answer A\n",
    "cur.execute(\"SELECT Temperate from Info\")\n",
    "print(\"************ PRINTING A ************\")\n",
    "for record in cur:\n",
    "    print(record)\n",
    "\n",
    "# Answer B\n",
    "cur.execute(\"Select DISTINCT city from Info\")\n",
    "print(\"\")\n",
    "print(\"************ PRINTING B ************\")\n",
    "for record in cur:\n",
    "    print(record)    \n",
    "    \n",
    "\n",
    "# Answer C\n",
    "cur.execute(\"Select * from Info WHERE country= 'India'\")\n",
    "print(\"\")\n",
    "print(\"************ PRINTING C ************\")\n",
    "for record in cur:\n",
    "    print(record)    \n",
    "\n",
    "# Answer D\n",
    "cur.execute(\"Select * from Info WHERE season= 'Fall'\")\n",
    "print(\"\")\n",
    "print(\"************ PRINTING D ************\")\n",
    "for record in cur:\n",
    "    print(record)  \n",
    "\n",
    "# Answer E\n",
    "cur.execute(\"Select city, country, season from Info WHERE Rainfall>= 200.0 and Rainfall <=400.0\")\n",
    "print(\"\")\n",
    "print(\"************ PRINTING E ************\")\n",
    "for record in cur:\n",
    "    print(record)  \n",
    "    \n",
    "# Answer F\n",
    "cur.execute(\"Select city, country from Info WHERE season= 'Fall' and temperate >= 20.0 order by temperate ASC\")\n",
    "print(\"\")\n",
    "print(\"************ PRINTING F ************\")\n",
    "for record in cur:\n",
    "    print(record)  \n",
    "    \n",
    "    \n",
    "# Answer G\n",
    "cur.execute(\"Select SUM(rainfall) from Info WHERE city= 'Cairo'\")\n",
    "print(\"\")\n",
    "print(\"************ PRINTING G ************\")\n",
    "for record in cur:\n",
    "    print(record)  \n",
    "    \n",
    "    \n",
    "# Answer H\n",
    "cur.execute(\"Select season, SUM(rainfall) from Info group by(season)\")\n",
    "print(\"\")\n",
    "print(\"************ PRINTING H ************\")\n",
    "for record in cur:\n",
    "    print(record)  \n",
    "    \n",
    "# Always close the Instances to avoid leaks.\n",
    "cur.close()\n",
    "conn.close()"
   ]
  },
  {
   "cell_type": "markdown",
   "id": "2cd45f70",
   "metadata": {},
   "source": [
    "### Question 9:  \n",
    "List Comprehension"
   ]
  },
  {
   "cell_type": "code",
   "execution_count": 79,
   "id": "31b4af16",
   "metadata": {},
   "outputs": [
    {
     "name": "stdout",
     "output_type": "stream",
     "text": [
      "******** A ********\n",
      "['THE', 'QUICK', 'BROWN', 'FOX', 'JUMPS', 'OVER', 'THE', 'LAZY', 'DOG']\n",
      "\n",
      "******** B ********\n",
      "['the', 'quick', 'brown', 'fox', 'jumps', 'over', 'the', 'lazy', 'dog']\n",
      "\n",
      "******** C ********\n",
      "[3, 5, 5, 3, 5, 4, 3, 4, 3]\n",
      "\n",
      "******** D ********\n",
      "[['THE', 'the', 3], ['QUICK', 'quick', 5], ['BROWN', 'brown', 5], ['FOX', 'fox', 3], ['JUMPS', 'jumps', 5], ['OVER', 'over', 4], ['THE', 'the', 3], ['LAZY', 'lazy', 4], ['DOG', 'dog', 3]]\n",
      "\n",
      "******** E ********\n",
      "['quick', 'brown', 'jumps', 'over', 'lazy']\n"
     ]
    }
   ],
   "source": [
    "words = ['The', 'quick', 'brown', 'fox', 'jumps', 'over','the', 'lazy', 'dog']\n",
    "\n",
    "print(\"******** A ********\")\n",
    "A = [word.upper() for word in words]\n",
    "print(A)\n",
    "print(\"\")\n",
    "\n",
    "print(\"******** B ********\")\n",
    "B =[word.lower() for word in words]\n",
    "print(B)\n",
    "print(\"\")\n",
    "\n",
    "print(\"******** C ********\")\n",
    "C = [len(word) for word in words]\n",
    "print(C)\n",
    "print(\"\")\n",
    "\n",
    "print(\"******** D ********\")\n",
    "D = [[word.upper(), word.lower(), len(word)] for word in words]\n",
    "print(D)\n",
    "print(\"\")\n",
    "\n",
    "print(\"******** E ********\")\n",
    "E = [word for word in words if len(word) >= 4]\n",
    "print(E)"
   ]
  },
  {
   "cell_type": "code",
   "execution_count": null,
   "id": "16118d31",
   "metadata": {},
   "outputs": [],
   "source": []
  }
 ],
 "metadata": {
  "kernelspec": {
   "display_name": "Python 3 (ipykernel)",
   "language": "python",
   "name": "python3"
  },
  "language_info": {
   "codemirror_mode": {
    "name": "ipython",
    "version": 3
   },
   "file_extension": ".py",
   "mimetype": "text/x-python",
   "name": "python",
   "nbconvert_exporter": "python",
   "pygments_lexer": "ipython3",
   "version": "3.9.13"
  }
 },
 "nbformat": 4,
 "nbformat_minor": 5
}
